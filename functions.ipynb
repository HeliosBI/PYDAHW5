{
 "cells": [
  {
   "cell_type": "markdown",
   "metadata": {},
   "source": [
    "Вы работаете секретарем и вам постоянно приходят различные документы. Вы должны быть очень внимательны, чтобы не потерять ни один документ. Каталог документов хранится в следующем виде:"
   ]
  },
  {
   "cell_type": "code",
   "execution_count": 1,
   "metadata": {},
   "outputs": [],
   "source": [
    "documents = [\n",
    "    {'type': 'passport', 'number': '2207 876234', 'name': 'Василий Гупкин'},\n",
    "    {'type': 'invoice', 'number': '11-2', 'name': 'Геннадий Покемонов'},\n",
    "    {'type': 'insurance', 'number': '10006', 'name': 'Аристарх Павлов'}\n",
    "]"
   ]
  },
  {
   "cell_type": "markdown",
   "metadata": {},
   "source": [
    "Перечень полок, на которых находятся документы хранится в следующем виде:"
   ]
  },
  {
   "cell_type": "code",
   "execution_count": 2,
   "metadata": {},
   "outputs": [],
   "source": [
    "directories = {\n",
    "    '1': ['2207 876234', '11-2'],\n",
    "    '2': ['10006'],\n",
    "    '3': []\n",
    "}"
   ]
  },
  {
   "cell_type": "markdown",
   "metadata": {},
   "source": [
    "Необходимо реализовать пользовательские команды (внимание! это не название функций, которые должны быть выразительными, а команды, которые вводит пользователь, чтобы получить необходимый результат):\n",
    "  \n",
    "- p – people – команда, которая спросит номер документа и выведет имя человека, которому он принадлежит;  \n",
    "- s – shelf – команда, которая спросит номер документа и выведет номер полки, на которой он находится  \n",
    "Правильно обработайте ситуацию, когда пользователь будет вводить несуществующий документ.\n",
    "- l – list – команда, которая выведет список всех документов в формате   \n",
    "**passport \"2207 876234\" \"Василий Гупкин\"**  \n",
    "- as – add shelf – команда, которая спросит номер новой полки и добавит ее в перечень\n",
    "- d – delete – команда, которая спросит номер документа и удалит его из каталога и из перечня полок. Предусмотрите сценарий, когда пользователь вводит несуществующий документ;  \n",
    "- m – move – команда, которая спросит номер документа и целевую полку и переместит его с текущей полки на целевую. Корректно обработайте кейсы, когда пользователь пытается переместить несуществующий документ или переместить документ на несуществующую полку;  \n",
    "- a – add – команда, которая добавит новый документ в каталог и в перечень полок, спросив его номер, тип, имя владельца и номер полки, на котором он будет храниться."
   ]
  },
  {
   "cell_type": "code",
   "execution_count": 3,
   "metadata": {},
   "outputs": [],
   "source": [
    "def main():\n",
    "    \"\"\"\n",
    "    Список доступных команд:\n",
    "    p – people – команда, которая спросит номер документа и выведет имя человека, которому он принадлежит.\n",
    "    s – shelf – команда, которая спросит номер документа и выведет номер полки, на которой он находится.\n",
    "    l – list – команда, которая выведет список всех документов.\n",
    "    as – add shelf – команда, которая спросит номер новой полки и добавит ее в перечень.\n",
    "    d – delete – команда, которая спросит номер документа и удалит его из каталога и из перечня полок.\n",
    "    m – move – команда, которая спросит номер документа и целевую полку и переместит его с текущей полки на целевую.\n",
    "    a – add – команда, которая добавит новый документ в каталог и в перечень полок.\n",
    "    \"\"\"\n",
    "    while True:\n",
    "        user_input = input('Введите команду: ')  \n",
    "        if user_input == 'p':\n",
    "            whose_document_is_that(documents)\n",
    "        elif user_input == 's':\n",
    "            which_shelf_document_is(directories)\n",
    "        elif user_input == 'l':\n",
    "            print_list_of_all_documents(documents)\n",
    "        elif user_input == 'as':\n",
    "            create_new_shelf(directories)\n",
    "        elif user_input == 'd':\n",
    "            delete_by_num(documents, directories)\n",
    "        elif user_input == 'm':\n",
    "            rebase_doc(directories)\n",
    "        elif user_input == 'a':\n",
    "            print('function7')\n",
    "        elif user_input == 'h':\n",
    "            print(help(main))\n",
    "        elif user_input == 'q':\n",
    "            print('До свидания!')\n",
    "            break\n",
    "        else:\n",
    "            print('Такая команда не существует.')\n",
    "            print('Введите другую команду или воспользуйтесь командой \"h\" для вывода списка команд.')"
   ]
  },
  {
   "cell_type": "code",
   "execution_count": 4,
   "metadata": {},
   "outputs": [],
   "source": [
    "def whose_document_is_that(documents_list):\n",
    "    global doc_number \n",
    "    doc_number = input('Введите номер документа: ')\n",
    "    doc_number_exists(documents_list)\n",
    "    if doc_number_exists(documents_list) == True:\n",
    "        print(f'ИО владельца документа: {get_name_by_number(documents_list)}')\n",
    "    else:\n",
    "        print('Такой номер документа в базе не существует!')\n",
    "    return"
   ]
  },
  {
   "cell_type": "code",
   "execution_count": 5,
   "metadata": {},
   "outputs": [],
   "source": [
    "def get_name_by_number(documents_list):\n",
    "    for document in documents_list:\n",
    "        if document['number'] == doc_number:\n",
    "            return document['name']"
   ]
  },
  {
   "cell_type": "code",
   "execution_count": 6,
   "metadata": {},
   "outputs": [],
   "source": [
    "def doc_number_exists(documents_list):\n",
    "    numbers_list = [document['number'] for document in documents_list]\n",
    "    if doc_number in numbers_list:\n",
    "        return True\n",
    "    else:\n",
    "        return"
   ]
  },
  {
   "cell_type": "code",
   "execution_count": 7,
   "metadata": {},
   "outputs": [],
   "source": [
    "def which_shelf_document_is(shelves_dict):\n",
    "    documents_list = documents\n",
    "    global doc_number \n",
    "    doc_number = input('Введите номер документа: ')\n",
    "    doc_number_exists_on_shelves(shelves_dict)\n",
    "    if doc_number_exists_on_shelves(shelves_dict) == True:\n",
    "        print(f'Документ расположен на полке: {get_shelf_by_number(shelves_dict)}')\n",
    "    else:\n",
    "        print('Такой номер документа в базе не существует!')\n",
    "    return"
   ]
  },
  {
   "cell_type": "code",
   "execution_count": 8,
   "metadata": {},
   "outputs": [],
   "source": [
    "def get_shelf_by_number(shelves_dict):\n",
    "    for shelf, docs_on_shelf in shelves_dict.items():\n",
    "        for docs_nums in docs_on_shelf:\n",
    "            if doc_number in docs_nums:\n",
    "                return shelf"
   ]
  },
  {
   "cell_type": "code",
   "execution_count": 9,
   "metadata": {},
   "outputs": [],
   "source": [
    "def doc_number_exists_on_shelves(shelves_dict):\n",
    "    numbers_list = []\n",
    "    for docs_on_shelf in shelves_dict.values():\n",
    "        for docs_nums in docs_on_shelf:\n",
    "            numbers_list.append(docs_nums)\n",
    "    if doc_number in numbers_list:\n",
    "        return True\n",
    "    else:\n",
    "        return"
   ]
  },
  {
   "cell_type": "code",
   "execution_count": 10,
   "metadata": {},
   "outputs": [],
   "source": [
    "def print_list_of_all_documents(documents_list):\n",
    "    for document in documents_list:\n",
    "        doc_type = document['type']\n",
    "        doc_num = document['number']\n",
    "        doc_name = document['name']\n",
    "        print(f'\\033[1m {doc_type} \"{doc_num}\" \"{doc_name}\" \\033[0m')\n",
    "    return"
   ]
  },
  {
   "cell_type": "code",
   "execution_count": 11,
   "metadata": {},
   "outputs": [],
   "source": [
    "def add_new_key(shelves_dict):\n",
    "    shelves_dict.setdefault(new_shelf_name)\n",
    "    print(f'Полка {new_shelf_name} добавлена')\n",
    "    return"
   ]
  },
  {
   "cell_type": "code",
   "execution_count": 12,
   "metadata": {},
   "outputs": [],
   "source": [
    "def input_is_numeric(new_shelf_name):\n",
    "    if new_shelf_name.isnumeric():\n",
    "        return True\n",
    "    else:\n",
    "        print('Введите корректный номер новой полки')\n",
    "        return"
   ]
  },
  {
   "cell_type": "code",
   "execution_count": 13,
   "metadata": {},
   "outputs": [],
   "source": [
    "def check_shelf_num(new_shelf_name,shelves_dict):\n",
    "    if new_shelf_name not in list(shelves_dict.keys()):\n",
    "        return True\n",
    "    else:\n",
    "        print('Полка с таким номером уже существует')\n",
    "        return"
   ]
  },
  {
   "cell_type": "code",
   "execution_count": 14,
   "metadata": {},
   "outputs": [],
   "source": [
    "def create_new_shelf(shelves_dict):\n",
    "    global new_shelf_name\n",
    "    new_shelf_name = input('Введите номер добавляемой полки: ')\n",
    "    if check_shelf_num(new_shelf_name,shelves_dict) == True:        \n",
    "        if input_is_numeric(new_shelf_name) == True:\n",
    "            add_new_key(shelves_dict)\n",
    "            return"
   ]
  },
  {
   "cell_type": "code",
   "execution_count": 15,
   "metadata": {},
   "outputs": [],
   "source": [
    "def is_somewhere(documents_list, shelves_dict):\n",
    "    if doc_number_exists(documents_list) == True:\n",
    "        return True\n",
    "    elif doc_number_exists_on_shelves(shelves_dict) == True:\n",
    "        return True\n",
    "    print('Такого документа нет ни на полках, ни в базе')\n",
    "    return False"
   ]
  },
  {
   "cell_type": "code",
   "execution_count": 16,
   "metadata": {},
   "outputs": [],
   "source": [
    "def delete_doc_num_docs(documents_list, doc_number):\n",
    "    pos_counter = -1\n",
    "    for document in documents_list:\n",
    "        pos_counter += 1\n",
    "        if document['number'] == doc_number:\n",
    "            del(documents_list[pos_counter])\n",
    "            return"
   ]
  },
  {
   "cell_type": "code",
   "execution_count": 17,
   "metadata": {},
   "outputs": [],
   "source": [
    "def delete_doc_num_shelves(shelves_dict, doc_number):\n",
    "    for docs_on_shelf in shelves_dict.values():\n",
    "        pos_counter = -1\n",
    "        for docs_nums in docs_on_shelf:\n",
    "            pos_counter += 1\n",
    "            if docs_nums == doc_number:\n",
    "                del(docs_on_shelf[pos_counter])                \n",
    "                return"
   ]
  },
  {
   "cell_type": "code",
   "execution_count": 18,
   "metadata": {},
   "outputs": [],
   "source": [
    "def delete_by_num(documents_list, shelves_dict):\n",
    "    global doc_number \n",
    "    doc_number = input('Введите номер документа: ')\n",
    "    if is_somewhere(documents_list, shelves_dict) == True:\n",
    "            delete_doc_num_docs(documents, doc_number)\n",
    "            delete_doc_num_shelves(directories, doc_number)  \n",
    "            print('Документ успешно удален из базы и убран с полки!')\n",
    "            return\n",
    "    return False"
   ]
  },
  {
   "cell_type": "code",
   "execution_count": 19,
   "metadata": {},
   "outputs": [],
   "source": [
    "def add_doc_on_shelf(shelves_dict, doc_number, rebase_shelf):\n",
    "    for shelf, docs in shelves_dict.items():\n",
    "        if shelf == rebase_shelf:\n",
    "            docs.append(doc_number)"
   ]
  },
  {
   "cell_type": "code",
   "execution_count": 20,
   "metadata": {},
   "outputs": [],
   "source": [
    "def check_shelf_exists(shelves_dict, rebase_shelf):\n",
    "    if rebase_shelf in list(shelves_dict.keys()):\n",
    "        return True"
   ]
  },
  {
   "cell_type": "code",
   "execution_count": 21,
   "metadata": {},
   "outputs": [],
   "source": [
    "def rebase_doc(shelves_dict):\n",
    "    global doc_number\n",
    "    doc_number = input('Введите номер документа: ')\n",
    "    rebase_shelf = input('Введите полку переноса документа: ')\n",
    "    if doc_number_exists_on_shelves(shelves_dict) == True:\n",
    "        if check_shelf_exists(shelves_dict, rebase_shelf) == True:\n",
    "            delete_doc_num_shelves(shelves_dict, doc_number)\n",
    "            add_doc_on_shelf(shelves_dict, doc_number, rebase_shelf)\n",
    "            return\n",
    "        else:\n",
    "            print('Полка с таким номером не существует!')\n",
    "    else:\n",
    "        print('Документ с таким номером не существует!')"
   ]
  },
  {
   "cell_type": "code",
   "execution_count": null,
   "metadata": {},
   "outputs": [],
   "source": []
  },
  {
   "cell_type": "code",
   "execution_count": null,
   "metadata": {},
   "outputs": [],
   "source": []
  },
  {
   "cell_type": "code",
   "execution_count": null,
   "metadata": {},
   "outputs": [],
   "source": []
  },
  {
   "cell_type": "code",
   "execution_count": 22,
   "metadata": {},
   "outputs": [
    {
     "name": "stdout",
     "output_type": "stream",
     "text": [
      "Введите команду: q\n",
      "До свидания!\n"
     ]
    }
   ],
   "source": [
    "main()"
   ]
  },
  {
   "cell_type": "code",
   "execution_count": 23,
   "metadata": {},
   "outputs": [
    {
     "data": {
      "text/plain": [
       "[{'type': 'passport', 'number': '2207 876234', 'name': 'Василий Гупкин'},\n",
       " {'type': 'invoice', 'number': '11-2', 'name': 'Геннадий Покемонов'},\n",
       " {'type': 'insurance', 'number': '10006', 'name': 'Аристарх Павлов'}]"
      ]
     },
     "execution_count": 23,
     "metadata": {},
     "output_type": "execute_result"
    }
   ],
   "source": [
    "documents"
   ]
  },
  {
   "cell_type": "code",
   "execution_count": 24,
   "metadata": {},
   "outputs": [
    {
     "data": {
      "text/plain": [
       "{'1': ['2207 876234', '11-2'], '2': ['10006'], '3': []}"
      ]
     },
     "execution_count": 24,
     "metadata": {},
     "output_type": "execute_result"
    }
   ],
   "source": [
    "directories"
   ]
  },
  {
   "cell_type": "code",
   "execution_count": null,
   "metadata": {},
   "outputs": [],
   "source": []
  },
  {
   "cell_type": "markdown",
   "metadata": {},
   "source": [
    "-названия переменных\n",
    "-использование global для проталкивания переменных - не понял причину ошибок. Это связано с тем, что при объявлении функции не прописал эту часть в параметрах?\n",
    "-в функции m очень хотеолось использовать созданную функцию проверки документа на полке doc_number_exists_on_shelves(), но в ней не было принта, поэтому принт зашил в значение (false) у цикла. "
   ]
  }
 ],
 "metadata": {
  "kernelspec": {
   "display_name": "Python 3",
   "language": "python",
   "name": "python3"
  },
  "language_info": {
   "codemirror_mode": {
    "name": "ipython",
    "version": 3
   },
   "file_extension": ".py",
   "mimetype": "text/x-python",
   "name": "python",
   "nbconvert_exporter": "python",
   "pygments_lexer": "ipython3",
   "version": "3.7.4"
  }
 },
 "nbformat": 4,
 "nbformat_minor": 2
}
